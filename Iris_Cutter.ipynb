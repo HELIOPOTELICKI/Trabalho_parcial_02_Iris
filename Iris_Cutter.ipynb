{
 "cells": [
  {
   "cell_type": "markdown",
   "metadata": {},
   "source": [
    "<h1> Trabalho parcial 02 - Iris </h1>\n",
    "<h3> Dupla: Hélio Potelicki e Rennã Tiedt </h3>"
   ]
  },
  {
   "cell_type": "code",
   "execution_count": 1,
   "metadata": {},
   "outputs": [],
   "source": [
    "import numpy as np\n",
    "import cv2"
   ]
  },
  {
   "cell_type": "code",
   "execution_count": 2,
   "metadata": {},
   "outputs": [],
   "source": [
    "def remove_background(image):\n",
    "    gray_image = cv2.cvtColor(image, cv2.COLOR_BGR2GRAY)\n",
    "    _, thresh = cv2.threshold(gray_image, 100, 255, cv2.THRESH_BINARY)\n",
    "\n",
    "    height = image.shape[0]\n",
    "    width = image.shape[1]\n",
    "\n",
    "    mask = np.zeros((height, width), np.uint8)\n",
    "    canny = cv2.Canny(thresh, 100, 200)\n",
    "    circles = cv2.HoughCircles(canny, cv2.HOUGH_GRADIENT, 1, 10000, param1=50, param2=30, minRadius=0, maxRadius=0)\n",
    "\n",
    "    for i in circles[0, :]:\n",
    "        cv2.circle(mask, (int(i[0]), int(i[1])), int(i[2]), (255, 255, 255), thickness=-1)\n",
    "\n",
    "    masked_data = cv2.bitwise_and(image, image, mask=mask)\n",
    "\n",
    "    _, thresh = cv2.threshold(mask, 1, 255, cv2.THRESH_BINARY)\n",
    "    contours, _ = cv2.findContours(thresh, cv2.RETR_EXTERNAL,\n",
    "                                   cv2.CHAIN_APPROX_SIMPLE)\n",
    "\n",
    "    x, y, w, h = cv2.boundingRect(contours[0])\n",
    "    crop = masked_data[y:y + h, x:x + w]\n",
    "\n",
    "    return crop\n",
    "\n",
    "\n",
    "def remove_pupil(image):\n",
    "    gray_image = cv2.cvtColor(image, cv2.COLOR_BGR2GRAY)\n",
    "    _, thresh = cv2.threshold(gray_image, 127, 255, 0)\n",
    "\n",
    "    M = cv2.moments(thresh)\n",
    "\n",
    "    cX = int(M[\"m10\"] / M[\"m00\"])\n",
    "    cY = int(M[\"m01\"] / M[\"m00\"])\n",
    "    centroid = (cX, cY)\n",
    "\n",
    "    dst = cv2.fastNlMeansDenoisingColored(image, None, 10, 10, 7, 21)\n",
    "    blur = cv2.GaussianBlur(dst, (5, 5), 0)\n",
    "    inv = cv2.bitwise_not(blur)\n",
    "    thresh = cv2.cvtColor(inv, cv2.COLOR_BGR2GRAY)\n",
    "    kernel = np.ones((2, 2), np.uint8)\n",
    "    erosion = cv2.erode(thresh, kernel, iterations=1)\n",
    "\n",
    "    _, thresh1 = cv2.threshold(erosion, 210, 255, cv2.THRESH_BINARY)\n",
    "\n",
    "    cnts, _ = cv2.findContours(thresh1, cv2.RETR_EXTERNAL, cv2.CHAIN_APPROX_SIMPLE)\n",
    "    flag = 10000\n",
    "    final_cnt = None\n",
    "\n",
    "    for cnt in cnts:\n",
    "        (x, y), radius = cv2.minEnclosingCircle(cnt)\n",
    "        distance = abs(centroid[0] - x) + abs(centroid[1] - y)\n",
    "\n",
    "        if distance < flag:\n",
    "            flag = distance\n",
    "            final_cnt = cnt\n",
    "        else:\n",
    "            continue\n",
    "\n",
    "    (x, y), radius = cv2.minEnclosingCircle(final_cnt)\n",
    "\n",
    "    center = (int(x), int(y))\n",
    "    radius = int(radius)\n",
    "\n",
    "    cv2.circle(image, center, radius, (255, 255, 255), thickness=-1)\n",
    "\n",
    "    return image"
   ]
  },
  {
   "cell_type": "code",
   "execution_count": 3,
   "metadata": {},
   "outputs": [
    {
     "data": {
      "text/plain": [
       "-1"
      ]
     },
     "execution_count": 3,
     "metadata": {},
     "output_type": "execute_result"
    }
   ],
   "source": [
    "image = cv2.imread('images\\iris1.jpg')\n",
    "image = remove_background(image)\n",
    "image[np.where((image == [0, 0, 0]).all(axis=2))] = [255, 255, 255]\n",
    "image = remove_pupil(image)\n",
    "\n",
    "cv2.imshow(\"cut\", image)\n",
    "cv2.waitKey(0)"
   ]
  }
 ],
 "metadata": {
  "interpreter": {
   "hash": "0a678800867ed281dda0336eba83e79768e052d772afb053e92275821baf81fa"
  },
  "kernelspec": {
   "display_name": "Python 3.8.12 ('FURB')",
   "language": "python",
   "name": "python3"
  },
  "language_info": {
   "codemirror_mode": {
    "name": "ipython",
    "version": 3
   },
   "file_extension": ".py",
   "mimetype": "text/x-python",
   "name": "python",
   "nbconvert_exporter": "python",
   "pygments_lexer": "ipython3",
   "version": "3.8.12"
  },
  "orig_nbformat": 4
 },
 "nbformat": 4,
 "nbformat_minor": 2
}
